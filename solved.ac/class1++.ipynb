{
  "nbformat": 4,
  "nbformat_minor": 0,
  "metadata": {
    "colab": {
      "name": "class1++.ipynb",
      "provenance": [],
      "collapsed_sections": []
    },
    "kernelspec": {
      "name": "python3",
      "display_name": "Python 3"
    },
    "language_info": {
      "name": "python"
    }
  },
  "cells": [
    {
      "cell_type": "markdown",
      "source": [
        "### 1000. A+B"
      ],
      "metadata": {
        "id": "iw2sQ0-uvpan"
      }
    },
    {
      "cell_type": "code",
      "execution_count": null,
      "metadata": {
        "colab": {
          "base_uri": "https://localhost:8080/"
        },
        "id": "RT_bLm6EvgFv",
        "outputId": "166b0512-d6bd-4913-f054-76bea35a1b1e"
      },
      "outputs": [
        {
          "output_type": "stream",
          "name": "stdout",
          "text": [
            "1 2\n",
            "3\n"
          ]
        }
      ],
      "source": [
        "a, b = map(int, input().split())\n",
        "print(a + b)"
      ]
    },
    {
      "cell_type": "markdown",
      "source": [
        "### 1001. A-B"
      ],
      "metadata": {
        "id": "ZknvUeBWv_dU"
      }
    },
    {
      "cell_type": "code",
      "source": [
        "a, b = map(int, input().split())\n",
        "print(a - b)"
      ],
      "metadata": {
        "colab": {
          "base_uri": "https://localhost:8080/"
        },
        "id": "dT-M-6QBwCwA",
        "outputId": "d7e36de6-5a9a-47cd-b6fd-cadd577e06d2"
      },
      "execution_count": null,
      "outputs": [
        {
          "output_type": "stream",
          "name": "stdout",
          "text": [
            "3 2\n",
            "1\n"
          ]
        }
      ]
    },
    {
      "cell_type": "markdown",
      "source": [
        "### 2457. 검증수"
      ],
      "metadata": {
        "id": "4SKmQhYcwHj6"
      }
    },
    {
      "cell_type": "code",
      "source": [
        "a, b, c, d, e = map(int, input().split())\n",
        "\n",
        "print((a**2 + b**2 + c**2 + d**2 + e**2) % 10)"
      ],
      "metadata": {
        "colab": {
          "base_uri": "https://localhost:8080/"
        },
        "id": "o_FYAkE_wNRh",
        "outputId": "2d6e69e7-7739-457d-b6bf-7e7964299cfe"
      },
      "execution_count": null,
      "outputs": [
        {
          "output_type": "stream",
          "name": "stdout",
          "text": [
            "0 4 2 5 6\n",
            "1\n"
          ]
        }
      ]
    },
    {
      "cell_type": "markdown",
      "source": [
        "### 2557. Hello World"
      ],
      "metadata": {
        "id": "egCAIcPswSQo"
      }
    },
    {
      "cell_type": "code",
      "source": [
        "print('Hello World!')"
      ],
      "metadata": {
        "colab": {
          "base_uri": "https://localhost:8080/"
        },
        "id": "TNgcVJ1dwVLA",
        "outputId": "d9ebc6e3-4339-4976-cfef-54f48e230b5f"
      },
      "execution_count": null,
      "outputs": [
        {
          "output_type": "stream",
          "name": "stdout",
          "text": [
            "Hello World!\n"
          ]
        }
      ]
    },
    {
      "cell_type": "markdown",
      "source": [
        "### 10171. 고양이"
      ],
      "metadata": {
        "id": "q1SCFQ9UwZZ6"
      }
    },
    {
      "cell_type": "code",
      "source": [
        "print('\\\\    /\\\\')\n",
        "print(' )  ( \\')')\n",
        "print('(  /  )')\n",
        "print(' \\\\(__)|')"
      ],
      "metadata": {
        "colab": {
          "base_uri": "https://localhost:8080/"
        },
        "id": "kdY-NbV_wf7C",
        "outputId": "11ea8101-6c86-411e-de1c-e72bff953323"
      },
      "execution_count": null,
      "outputs": [
        {
          "output_type": "stream",
          "name": "stdout",
          "text": [
            "\\    /\\\n",
            " )  ( ')\n",
            "(  /  )\n",
            " \\(__)|\n"
          ]
        }
      ]
    },
    {
      "cell_type": "markdown",
      "source": [
        "### 10172. 개"
      ],
      "metadata": {
        "id": "xAYeYVZ9wiee"
      }
    },
    {
      "cell_type": "code",
      "source": [
        "print('|\\\\_/|')\n",
        "print('|q p|   /}')\n",
        "print('( 0 )\\\"\\\"\\\"\\\\')\n",
        "print('|\\\"^\\\"`    |')\n",
        "print('||_/=\\\\\\\\__|')"
      ],
      "metadata": {
        "colab": {
          "base_uri": "https://localhost:8080/"
        },
        "id": "BWWpzAXMwmBC",
        "outputId": "2eb5ca5c-85ab-4017-83b9-ddaea7fa02a1"
      },
      "execution_count": null,
      "outputs": [
        {
          "output_type": "stream",
          "name": "stdout",
          "text": [
            "|\\_/|\n",
            "|q p|   /}\n",
            "( 0 )\"\"\"\\\n",
            "|\"^\"`    |\n",
            "||_/=\\\\__|\n"
          ]
        }
      ]
    },
    {
      "cell_type": "markdown",
      "source": [
        "### 10869. 사칙연산"
      ],
      "metadata": {
        "id": "rQMRNjWJxHOE"
      }
    },
    {
      "cell_type": "code",
      "source": [
        "a, b = input().split()\n",
        "\n",
        "print(int(a) + int(b))\n",
        "print(int(a) - int(b))\n",
        "print(int(a) * int(b))\n",
        "print(int(int(a) / int(b)))\n",
        "print(int(a) % int(b))"
      ],
      "metadata": {
        "colab": {
          "base_uri": "https://localhost:8080/"
        },
        "id": "C1at7SuNxKMD",
        "outputId": "1f2f9e16-63a4-444b-9715-d527f0e4ba36"
      },
      "execution_count": null,
      "outputs": [
        {
          "output_type": "stream",
          "name": "stdout",
          "text": [
            "7 3\n",
            "10\n",
            "4\n",
            "21\n",
            "2\n",
            "1\n"
          ]
        }
      ]
    },
    {
      "cell_type": "markdown",
      "source": [
        "### 10998. AxB"
      ],
      "metadata": {
        "id": "ZaQfK_vgxQMu"
      }
    },
    {
      "cell_type": "code",
      "source": [
        "a, b = map(int, input().split())\n",
        "\n",
        "print(a * b)"
      ],
      "metadata": {
        "colab": {
          "base_uri": "https://localhost:8080/"
        },
        "id": "3kDGHkirxTrm",
        "outputId": "b7abd102-1d4e-4c6e-efb7-159bbdffc4a0"
      },
      "execution_count": null,
      "outputs": [
        {
          "output_type": "stream",
          "name": "stdout",
          "text": [
            "1 2\n",
            "2\n"
          ]
        }
      ]
    },
    {
      "cell_type": "markdown",
      "source": [
        "### 11654. 아스키 코드"
      ],
      "metadata": {
        "id": "Egdx7glGxkaP"
      }
    },
    {
      "cell_type": "code",
      "source": [
        "a = input()\n",
        "print(ord(a))"
      ],
      "metadata": {
        "colab": {
          "base_uri": "https://localhost:8080/"
        },
        "id": "sAgHzs6dxmuf",
        "outputId": "161eb01a-d03b-401f-d432-2e63c69a12b9"
      },
      "execution_count": null,
      "outputs": [
        {
          "output_type": "stream",
          "name": "stdout",
          "text": [
            "9\n",
            "57\n"
          ]
        }
      ]
    },
    {
      "cell_type": "markdown",
      "source": [
        "### 1008. A/B"
      ],
      "metadata": {
        "id": "iNjC1gQ0yBrg"
      }
    },
    {
      "cell_type": "code",
      "source": [
        "a, b = map(int, input().split())\n",
        "print(a / b)"
      ],
      "metadata": {
        "colab": {
          "base_uri": "https://localhost:8080/"
        },
        "id": "3XCRmtD5yEZa",
        "outputId": "5a1f2e59-5c03-4d41-cb09-920341afb98d"
      },
      "execution_count": null,
      "outputs": [
        {
          "output_type": "stream",
          "name": "stdout",
          "text": [
            "1 3\n",
            "0.3333333333333333\n"
          ]
        }
      ]
    },
    {
      "cell_type": "markdown",
      "source": [
        "### 1330. 두 수 비교하기"
      ],
      "metadata": {
        "id": "OczMkiIoyK_g"
      }
    },
    {
      "cell_type": "code",
      "source": [
        "a, b = map(int, input().split())\n",
        "\n",
        "if a > b:\n",
        "    print('>')\n",
        "elif a < b:\n",
        "    print('<')\n",
        "else:\n",
        "    print('==')"
      ],
      "metadata": {
        "colab": {
          "base_uri": "https://localhost:8080/"
        },
        "id": "MULRraXiyOXa",
        "outputId": "673622cc-c9dd-40ff-d0bd-928647d06139"
      },
      "execution_count": null,
      "outputs": [
        {
          "output_type": "stream",
          "name": "stdout",
          "text": [
            "1 2\n",
            "<\n"
          ]
        }
      ]
    },
    {
      "cell_type": "markdown",
      "source": [
        "### 2753. 윤년"
      ],
      "metadata": {
        "id": "-Mho_R96yT_T"
      }
    },
    {
      "cell_type": "code",
      "source": [
        "year = int(input())\n",
        "\n",
        "if ((year % 4 == 0) and (year % 100 != 0)) or (year % 400 == 0):\n",
        "  print(1)\n",
        "else:\n",
        "  print(0)"
      ],
      "metadata": {
        "colab": {
          "base_uri": "https://localhost:8080/"
        },
        "id": "7KPzgbGAyTps",
        "outputId": "ef0de86c-b70c-47ca-9615-339300186cee"
      },
      "execution_count": null,
      "outputs": [
        {
          "output_type": "stream",
          "name": "stdout",
          "text": [
            "1999\n",
            "0\n"
          ]
        }
      ]
    },
    {
      "cell_type": "markdown",
      "source": [
        "### 9498. 시험 성적"
      ],
      "metadata": {
        "id": "cPdN_l2QzkK7"
      }
    },
    {
      "cell_type": "code",
      "source": [
        "score = int(input())\n",
        "\n",
        "if score >= 90:\n",
        "  print('A')\n",
        "elif score >= 80:\n",
        "  print('B')\n",
        "elif score >= 70:\n",
        "  print('C')\n",
        "elif score >= 60:\n",
        "  print('D')\n",
        "else:\n",
        "  print('F')"
      ],
      "metadata": {
        "colab": {
          "base_uri": "https://localhost:8080/"
        },
        "id": "YQ0O-WPfzmwd",
        "outputId": "c603105d-27ef-4f14-daaf-e666c821cef2"
      },
      "execution_count": null,
      "outputs": [
        {
          "output_type": "stream",
          "name": "stdout",
          "text": [
            "100\n",
            "A\n"
          ]
        }
      ]
    },
    {
      "cell_type": "markdown",
      "source": [
        "### 2438. 별 찍기 - 1"
      ],
      "metadata": {
        "id": "-Bl3p43Q1Y5u"
      }
    },
    {
      "cell_type": "code",
      "source": [
        "n = int(input())\n",
        "\n",
        "for i in range(1, n+1):\n",
        "  print('*'*i)"
      ],
      "metadata": {
        "colab": {
          "base_uri": "https://localhost:8080/"
        },
        "id": "VLEcci1i1b0m",
        "outputId": "b41bd5ca-9893-433b-8690-ea901701ea7b"
      },
      "execution_count": null,
      "outputs": [
        {
          "output_type": "stream",
          "name": "stdout",
          "text": [
            "5\n",
            "*\n",
            "**\n",
            "***\n",
            "****\n",
            "*****\n"
          ]
        }
      ]
    },
    {
      "cell_type": "markdown",
      "source": [
        "### 2439. 별 찍기 - 2"
      ],
      "metadata": {
        "id": "D8kudwOf2SXN"
      }
    },
    {
      "cell_type": "code",
      "source": [
        "n = int(input())\n",
        "\n",
        "for i in range(1, n+1):\n",
        "  print(' '*(n-i)+'*'*i)"
      ],
      "metadata": {
        "colab": {
          "base_uri": "https://localhost:8080/"
        },
        "id": "zq46JfLm2VnX",
        "outputId": "6cdc4876-3eed-4077-ab29-d59f712827d1"
      },
      "execution_count": null,
      "outputs": [
        {
          "output_type": "stream",
          "name": "stdout",
          "text": [
            "5\n",
            "    *\n",
            "   **\n",
            "  ***\n",
            " ****\n",
            "*****\n"
          ]
        }
      ]
    },
    {
      "cell_type": "markdown",
      "source": [
        "### 2739. 구구단"
      ],
      "metadata": {
        "id": "EbJnpdfp217U"
      }
    },
    {
      "cell_type": "code",
      "source": [
        "n = int(input())\n",
        "\n",
        "for i in range(1, 10):\n",
        "  print(n, '*', i, '=', n*i)"
      ],
      "metadata": {
        "colab": {
          "base_uri": "https://localhost:8080/"
        },
        "id": "t78HvwZc24PI",
        "outputId": "6bb0f719-2991-497b-d0a9-a3d2328f7a7a"
      },
      "execution_count": null,
      "outputs": [
        {
          "output_type": "stream",
          "name": "stdout",
          "text": [
            "2\n",
            "2 * 1 = 2\n",
            "2 * 2 = 4\n",
            "2 * 3 = 6\n",
            "2 * 4 = 8\n",
            "2 * 5 = 10\n",
            "2 * 6 = 12\n",
            "2 * 7 = 14\n",
            "2 * 8 = 16\n",
            "2 * 9 = 18\n"
          ]
        }
      ]
    },
    {
      "cell_type": "markdown",
      "source": [
        "### 2741. N 찍기"
      ],
      "metadata": {
        "id": "7mbXhLum3aEO"
      }
    },
    {
      "cell_type": "code",
      "source": [
        "n = int(input())\n",
        "\n",
        "for i in range(1, n+1):\n",
        "  print(i)"
      ],
      "metadata": {
        "colab": {
          "base_uri": "https://localhost:8080/"
        },
        "id": "plOj1TxV3eig",
        "outputId": "718d4028-e8f4-4a3a-aeb2-ba428828f3e4"
      },
      "execution_count": null,
      "outputs": [
        {
          "output_type": "stream",
          "name": "stdout",
          "text": [
            "5\n",
            "1\n",
            "2\n",
            "3\n",
            "4\n",
            "5\n"
          ]
        }
      ]
    },
    {
      "cell_type": "markdown",
      "source": [
        "### 2742. 기찍 N"
      ],
      "metadata": {
        "id": "b_CKnT6p3tur"
      }
    },
    {
      "cell_type": "code",
      "source": [
        "n = int(input())\n",
        "\n",
        "for i in range(1, n+1):\n",
        "  print(n + 1 - i)"
      ],
      "metadata": {
        "colab": {
          "base_uri": "https://localhost:8080/"
        },
        "id": "O7eRxm_N30eN",
        "outputId": "ebf8c37c-2206-4b45-9fb4-7b2627652608"
      },
      "execution_count": null,
      "outputs": [
        {
          "output_type": "stream",
          "name": "stdout",
          "text": [
            "5\n",
            "5\n",
            "4\n",
            "3\n",
            "2\n",
            "1\n"
          ]
        }
      ]
    },
    {
      "cell_type": "markdown",
      "source": [
        "### 2884. 알람 시계"
      ],
      "metadata": {
        "id": "sGv50BK84aOW"
      }
    },
    {
      "cell_type": "code",
      "source": [
        "h, m = map(int, input().split())\n",
        "\n",
        "if m >= 45:\n",
        "  print(h, m-45)\n",
        "else:\n",
        "  if h-1 < 0:\n",
        "    print(24+(h-1), 60+(m-45))\n",
        "  else:\n",
        "    print(h-1, 60+(m-45))"
      ],
      "metadata": {
        "colab": {
          "base_uri": "https://localhost:8080/"
        },
        "id": "R4BHYEcF4cPv",
        "outputId": "b9c5844d-0fc0-4f15-bb84-6dc083af277c"
      },
      "execution_count": null,
      "outputs": [
        {
          "output_type": "stream",
          "name": "stdout",
          "text": [
            "0 30\n",
            "23 45\n"
          ]
        }
      ]
    },
    {
      "cell_type": "markdown",
      "source": [
        "### 10818. 최소, 최대"
      ],
      "metadata": {
        "id": "_SvtP4tw6Fxc"
      }
    },
    {
      "cell_type": "code",
      "source": [
        "n = int(input())\n",
        "numbers = list(map(int, input().split()))\n",
        "\n",
        "print(min(numbers), max(numbers))"
      ],
      "metadata": {
        "colab": {
          "base_uri": "https://localhost:8080/"
        },
        "id": "KPRCNNzy6HpF",
        "outputId": "b726de99-1e7d-4641-f701-056875eb2bf6"
      },
      "execution_count": null,
      "outputs": [
        {
          "output_type": "stream",
          "name": "stdout",
          "text": [
            "5\n",
            "20 10 35 30 7\n",
            "7 35\n"
          ]
        }
      ]
    },
    {
      "cell_type": "markdown",
      "source": [
        "### 10871. X보다 작은 수"
      ],
      "metadata": {
        "id": "iebyYhXe690x"
      }
    },
    {
      "cell_type": "code",
      "source": [
        "n, x = map(int, input().split())\n",
        "numbers = list(map(int, input().split()))\n",
        "\n",
        "for i in range(n):\n",
        "  if numbers[i] < x:\n",
        "    print(numbers[i], end=' ')"
      ],
      "metadata": {
        "colab": {
          "base_uri": "https://localhost:8080/"
        },
        "id": "4FLIwzqd7B7l",
        "outputId": "985ec696-6fae-48d0-89ab-1b868acbdc72"
      },
      "execution_count": null,
      "outputs": [
        {
          "output_type": "stream",
          "name": "stdout",
          "text": [
            "10 5\n",
            "1 10 4 9 2 3 8 5 7 6\n",
            "1 4 2 3 "
          ]
        }
      ]
    },
    {
      "cell_type": "markdown",
      "source": [
        "### 10950. A+B - 3"
      ],
      "metadata": {
        "id": "44BSjpPc8BH0"
      }
    },
    {
      "cell_type": "code",
      "source": [
        "t = int(input())\n",
        "for i in range(t):\n",
        "  a, b = map(int, input().split())\n",
        "  print(a + b)"
      ],
      "metadata": {
        "colab": {
          "base_uri": "https://localhost:8080/"
        },
        "id": "0PaLB5vp8EuR",
        "outputId": "e460134b-3a64-4c14-a716-f00a7ef332f5"
      },
      "execution_count": null,
      "outputs": [
        {
          "output_type": "stream",
          "name": "stdout",
          "text": [
            "5\n",
            "1 1\n",
            "2\n",
            "2 3\n",
            "5\n",
            "3 4\n",
            "7\n",
            "9 8\n",
            "17\n",
            "5 2\n",
            "7\n"
          ]
        }
      ]
    },
    {
      "cell_type": "markdown",
      "source": [
        "### 10951. A+B - 4"
      ],
      "metadata": {
        "id": "hpiDq5VN8nLc"
      }
    },
    {
      "cell_type": "code",
      "source": [
        "while True:\n",
        "  try:\n",
        "    a, b = map(int, input().split())\n",
        "    print(a + b)\n",
        "  except:\n",
        "    break"
      ],
      "metadata": {
        "colab": {
          "base_uri": "https://localhost:8080/"
        },
        "id": "zRroaxiO8rRP",
        "outputId": "d8234d62-83f5-4514-a474-65bf17179c81"
      },
      "execution_count": null,
      "outputs": [
        {
          "name": "stdout",
          "output_type": "stream",
          "text": [
            "1 1\n",
            "2\n",
            "2 3\n",
            "5\n",
            "3 4\n",
            "7\n",
            "9 8\n",
            "17\n",
            "5 2\n",
            "7\n",
            "\n"
          ]
        }
      ]
    },
    {
      "cell_type": "markdown",
      "source": [
        "### 10952. A+B - 5"
      ],
      "metadata": {
        "id": "Wp1lVJbP9nYv"
      }
    },
    {
      "cell_type": "code",
      "source": [
        "while True:\n",
        "    a, b = map(int, input().split())\n",
        "    if a == 0 and b == 0:\n",
        "      break\n",
        "    else:\n",
        "      print(a + b)"
      ],
      "metadata": {
        "colab": {
          "base_uri": "https://localhost:8080/"
        },
        "id": "VXUpfrDv9qo3",
        "outputId": "651f1e45-b4c4-449c-f866-b07b046c48e4"
      },
      "execution_count": null,
      "outputs": [
        {
          "name": "stdout",
          "output_type": "stream",
          "text": [
            "1 1\n",
            "2\n",
            "2 3\n",
            "5\n",
            "3 4\n",
            "7\n",
            "9 8\n",
            "17\n",
            "5 2\n",
            "7\n",
            "0 0\n"
          ]
        }
      ]
    },
    {
      "cell_type": "markdown",
      "source": [
        "### 1152. 단어의 개수"
      ],
      "metadata": {
        "id": "3mjtn8tj-Grz"
      }
    },
    {
      "cell_type": "code",
      "source": [
        "print(len(input().split()))"
      ],
      "metadata": {
        "colab": {
          "base_uri": "https://localhost:8080/"
        },
        "id": "BvBmO0BI-Imm",
        "outputId": "268bb741-bce7-40af-ff45-c9170fe1a688"
      },
      "execution_count": null,
      "outputs": [
        {
          "output_type": "stream",
          "name": "stdout",
          "text": [
            "The Curious Case of Benjamin Button\n",
            "6\n"
          ]
        }
      ]
    },
    {
      "cell_type": "markdown",
      "source": [
        "### 2562. 최댓값"
      ],
      "metadata": {
        "id": "MfMDM7sb-OhO"
      }
    },
    {
      "cell_type": "code",
      "source": [
        "numbers = []\n",
        "for i in range(9):\n",
        "  numbers.append(int(input()))\n",
        "print(max(numbers))\n",
        "print(numbers.index(max(numbers))+1)"
      ],
      "metadata": {
        "colab": {
          "base_uri": "https://localhost:8080/"
        },
        "id": "RfUV6dhV-RQA",
        "outputId": "9a6ed967-0ce9-49cf-f736-c143213b2fc6"
      },
      "execution_count": null,
      "outputs": [
        {
          "output_type": "stream",
          "name": "stdout",
          "text": [
            "3\n",
            "29\n",
            "38\n",
            "12\n",
            "57\n",
            "74\n",
            "40\n",
            "85\n",
            "61\n",
            "85\n",
            "8\n"
          ]
        }
      ]
    },
    {
      "cell_type": "markdown",
      "source": [
        "### 2577. 숫자의 개수"
      ],
      "metadata": {
        "id": "LmUEcTyP_oJR"
      }
    },
    {
      "cell_type": "code",
      "source": [
        "a = int(input())\n",
        "b = int(input())\n",
        "c = int(input())\n",
        "\n",
        "n = str(a * b * c)\n",
        "\n",
        "for i in range(10):\n",
        "    cnt = 0\n",
        "    for j in n:\n",
        "        if int(j) == i:\n",
        "            cnt += 1\n",
        "    print(cnt)"
      ],
      "metadata": {
        "id": "XDdPmGdh_sS7",
        "colab": {
          "base_uri": "https://localhost:8080/"
        },
        "outputId": "9242b8d4-46b2-47a3-d9c3-acd4e6d9ba90"
      },
      "execution_count": null,
      "outputs": [
        {
          "output_type": "stream",
          "name": "stdout",
          "text": [
            "150\n",
            "266\n",
            "427\n",
            "3\n",
            "1\n",
            "0\n",
            "2\n",
            "0\n",
            "0\n",
            "0\n",
            "2\n",
            "0\n",
            "0\n"
          ]
        }
      ]
    },
    {
      "cell_type": "markdown",
      "source": [
        "### 2675. 문자열 반복"
      ],
      "metadata": {
        "id": "ijLb32UJo37O"
      }
    },
    {
      "cell_type": "code",
      "source": [
        "n = int(input())\n",
        "\n",
        "for _ in range(n):\n",
        "    cnt, word = input().split()\n",
        "    for x in word:\n",
        "        print(x*int(cnt), end='')\n",
        "    print()"
      ],
      "metadata": {
        "colab": {
          "base_uri": "https://localhost:8080/"
        },
        "id": "iHsxtk8Io7lt",
        "outputId": "a7952f66-1df5-4275-e18c-95029ab19f9c"
      },
      "execution_count": null,
      "outputs": [
        {
          "output_type": "stream",
          "name": "stdout",
          "text": [
            "2\n",
            "3 ABC\n",
            "AAABBBCCC\n",
            "5 /HTP\n",
            "/////HHHHHTTTTTPPPPP\n"
          ]
        }
      ]
    },
    {
      "cell_type": "markdown",
      "source": [
        "### 2908. 상수"
      ],
      "metadata": {
        "id": "OaAUSlxiqvXF"
      }
    },
    {
      "cell_type": "code",
      "source": [
        "a, b = input().split()\n",
        "\n",
        "print(max(int(a[::-1]), int(b[::-1])))  # 슬라이싱 활용"
      ],
      "metadata": {
        "colab": {
          "base_uri": "https://localhost:8080/"
        },
        "id": "Ped_CiYeqwmd",
        "outputId": "f8de7370-3a95-4540-da35-d3257c8eb0cb"
      },
      "execution_count": null,
      "outputs": [
        {
          "output_type": "stream",
          "name": "stdout",
          "text": [
            "734 893\n",
            "437\n"
          ]
        }
      ]
    },
    {
      "cell_type": "markdown",
      "source": [
        "### 2920. 음계"
      ],
      "metadata": {
        "id": "OyKon0mHr7lE"
      }
    },
    {
      "cell_type": "code",
      "source": [
        "nums = list(map(int, input().split()))\n",
        "\n",
        "asc = [1, 2, 3, 4, 5, 6, 7, 8]\n",
        "des = list(reversed(asc))\n",
        "\n",
        "if nums == asc:\n",
        "    print('ascending')\n",
        "elif nums == des:\n",
        "    print('descending')\n",
        "else:\n",
        "    print('mixed')"
      ],
      "metadata": {
        "colab": {
          "base_uri": "https://localhost:8080/"
        },
        "id": "iDe_4BBysYQX",
        "outputId": "d6aa4dbd-19bf-419e-8699-94ca85a0d026"
      },
      "execution_count": null,
      "outputs": [
        {
          "output_type": "stream",
          "name": "stdout",
          "text": [
            "8 7 6 5 4 3 2 1\n",
            "descending\n"
          ]
        }
      ]
    },
    {
      "cell_type": "markdown",
      "source": [
        "### 3052. 나머지"
      ],
      "metadata": {
        "id": "lCNwGcNHzmVm"
      }
    },
    {
      "cell_type": "code",
      "source": [
        "nums = []\n",
        "\n",
        "for _ in range(10):\n",
        "    num = int(input()) % 42\n",
        "    nums.append(num)\n",
        "print(len(set(nums)))"
      ],
      "metadata": {
        "colab": {
          "base_uri": "https://localhost:8080/"
        },
        "id": "GOfgoGx_zqE6",
        "outputId": "3b01f09d-38d5-4030-c959-db974da7fa57"
      },
      "execution_count": null,
      "outputs": [
        {
          "output_type": "stream",
          "name": "stdout",
          "text": [
            "1\n",
            "2\n",
            "3\n",
            "4\n",
            "5\n",
            "6\n",
            "7\n",
            "8\n",
            "9\n",
            "10\n",
            "10\n"
          ]
        }
      ]
    },
    {
      "cell_type": "markdown",
      "source": [
        "### 8958. OX퀴즈"
      ],
      "metadata": {
        "id": "Tz02AuPh2v9f"
      }
    },
    {
      "cell_type": "code",
      "source": [
        "t = int(input())\n",
        "\n",
        "for _ in range(t):\n",
        "    score, _sum = 0, 0\n",
        "    ox = input()\n",
        "    \n",
        "    for i in ox:\n",
        "        if i == 'O':\n",
        "            score += 1\n",
        "            _sum += score\n",
        "        else:\n",
        "            score = 0\n",
        "    print(_sum)"
      ],
      "metadata": {
        "colab": {
          "base_uri": "https://localhost:8080/"
        },
        "id": "P46ozHeQ21Bi",
        "outputId": "5e1cbb03-b765-41c9-a4fd-2bcb3341eca8"
      },
      "execution_count": null,
      "outputs": [
        {
          "output_type": "stream",
          "name": "stdout",
          "text": [
            "5\n",
            "OOXXOXXOOO\n",
            "10\n",
            "OOXXOOXXOO\n",
            "9\n",
            "OXOXOXOXOXOXOX\n",
            "7\n",
            "OOOOOOOOOO\n",
            "55\n",
            "OOOOXOOOOXOOOOX\n",
            "30\n"
          ]
        }
      ]
    },
    {
      "cell_type": "markdown",
      "source": [
        "### 10809. 알파벳 찾기"
      ],
      "metadata": {
        "id": "Danu0HOF5vXX"
      }
    },
    {
      "cell_type": "code",
      "source": [
        "word = input()\n",
        "alphabet = list(range(97, 123))  # 아스키코드 숫자 범위\n",
        "\n",
        "for x in alphabet:\n",
        "    print(word.find(chr(x)), end=' ')"
      ],
      "metadata": {
        "colab": {
          "base_uri": "https://localhost:8080/"
        },
        "id": "HXoKIrly5yWW",
        "outputId": "7f5da2a6-4c0b-448b-9371-ba5d7a735dbe"
      },
      "execution_count": null,
      "outputs": [
        {
          "output_type": "stream",
          "name": "stdout",
          "text": [
            "baekjoon\n",
            "1 0 -1 -1 2 -1 -1 -1 -1 4 3 -1 -1 7 5 -1 -1 -1 -1 -1 -1 -1 -1 -1 -1 -1 "
          ]
        }
      ]
    },
    {
      "cell_type": "markdown",
      "source": [
        "### 11720. 숫자의 합"
      ],
      "metadata": {
        "id": "srI5MAU4CVAn"
      }
    },
    {
      "cell_type": "code",
      "source": [
        "t = int(input())\n",
        "nums = input()\n",
        "_sum = 0\n",
        "\n",
        "for i in nums:\n",
        "    _sum += int(i)\n",
        "print(_sum)"
      ],
      "metadata": {
        "colab": {
          "base_uri": "https://localhost:8080/"
        },
        "id": "ZBrtRyiRCX69",
        "outputId": "641cca2e-33e3-46d3-b6d3-8f69fb526d36"
      },
      "execution_count": null,
      "outputs": [
        {
          "output_type": "stream",
          "name": "stdout",
          "text": [
            "5\n",
            "54321\n",
            "15\n"
          ]
        }
      ]
    },
    {
      "cell_type": "markdown",
      "source": [
        "### 1157. 단어 공부"
      ],
      "metadata": {
        "id": "TUYUqLcdD9Fq"
      }
    },
    {
      "cell_type": "code",
      "source": [
        "word = input().upper()\n",
        "word_list = list(set(word))\n",
        "cnt = []\n",
        "\n",
        "for i in word_list:  # 각 문자별 개수 세기\n",
        "    count = word.count\n",
        "    cnt.append(count(i))\n",
        "\n",
        "if cnt.count(max(cnt)) > 1:\n",
        "    print('?')\n",
        "else:\n",
        "    print(word_list[(cnt.index(max(cnt)))])"
      ],
      "metadata": {
        "colab": {
          "base_uri": "https://localhost:8080/"
        },
        "id": "5RkRNY2iEBcx",
        "outputId": "4ccf38cf-bd05-497d-d165-797b0d1896d8"
      },
      "execution_count": null,
      "outputs": [
        {
          "output_type": "stream",
          "name": "stdout",
          "text": [
            "Mississipi\n",
            "?\n"
          ]
        }
      ]
    },
    {
      "cell_type": "markdown",
      "source": [
        "### 1546. 평균"
      ],
      "metadata": {
        "id": "-yQkrjMJEIvU"
      }
    },
    {
      "cell_type": "code",
      "source": [
        "n = int(input())\n",
        "score = list(map(int, input().split()))\n",
        "max_score = max(score)\n",
        "new_list = []\n",
        "\n",
        "for i in score:\n",
        "    new_list.append(i/max_score*100)\n",
        "avg = sum(new_list) / n\n",
        "print(avg)"
      ],
      "metadata": {
        "colab": {
          "base_uri": "https://localhost:8080/"
        },
        "id": "hpvtyPvvEMMA",
        "outputId": "1cd149cb-21ff-4be5-9ee9-be361a303e19"
      },
      "execution_count": null,
      "outputs": [
        {
          "output_type": "stream",
          "name": "stdout",
          "text": [
            "3\n",
            "40 80 60\n",
            "75.0\n"
          ]
        }
      ]
    }
  ]
}