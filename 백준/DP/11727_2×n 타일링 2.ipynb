{
  "cells": [
    {
      "cell_type": "markdown",
      "metadata": {
        "id": "cJ3hU20-Tv0V"
      },
      "source": [
        "### 2xn 타일링 2"
      ]
    },
    {
      "cell_type": "code",
      "execution_count": 2,
      "metadata": {
        "colab": {
          "base_uri": "https://localhost:8080/"
        },
        "id": "oeWy-1mBTrdn",
        "outputId": "3e36837c-36be-4fb5-a9e5-5464299af7cf"
      },
      "outputs": [
        {
          "name": "stdout",
          "output_type": "stream",
          "text": [
            "8\n",
            "171\n"
          ]
        }
      ],
      "source": [
        "# https://www.acmicpc.net/problem/11727\n",
        "\n",
        "n = int(input())\n",
        "\n",
        "dp = [0, 1, 3]\n",
        "\n",
        "for i in range(3, n+1):\n",
        "    dp.append((dp[i-1]) + ((dp[i-2]) * 2))\n",
        "\n",
        "print(dp[n] % 10007)"
      ]
    }
  ],
  "metadata": {
    "colab": {
      "name": "11727.ipynb",
      "provenance": []
    },
    "kernelspec": {
      "display_name": "Python 3",
      "name": "python3"
    },
    "language_info": {
      "name": "python"
    }
  },
  "nbformat": 4,
  "nbformat_minor": 0
}
